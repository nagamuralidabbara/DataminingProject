{
 "cells": [
  {
   "cell_type": "markdown",
   "id": "0aaabda8",
   "metadata": {},
   "source": [
    "### FINAL PROJECT - DATA MINING (CS505)\n",
    "### Fake News Detection"
   ]
  },
  {
   "cell_type": "code",
   "execution_count": 1,
   "id": "282a87e4",
   "metadata": {},
   "outputs": [],
   "source": [
    "#importing all the required libraries\n",
    "import pandas as pd\n",
    "import numpy as np\n",
    "import matplotlib.pyplot as py\n",
    "import itertools\n",
    "import re\n",
    "import string\n",
    "from sklearn.feature_extraction.text import TfidfVectorizer\n",
    "from sklearn.feature_extraction.text import CountVectorizer, HashingVectorizer\n",
    "from sklearn.naive_bayes import MultinomialNB\n",
    "from sklearn.model_selection import train_test_split\n",
    "from sklearn import metrics\n",
    "from sklearn.linear_model import PassiveAggressiveClassifier\n",
    "from sklearn.metrics import accuracy_score, confusion_matrix, classification_report, ConfusionMatrixDisplay\n",
    "from sklearn.pipeline import make_pipeline"
   ]
  },
  {
   "cell_type": "code",
   "execution_count": 2,
   "id": "5564f6ff",
   "metadata": {},
   "outputs": [],
   "source": [
    "#Reading the fake news and true news datasets\n",
    "fd_fake=pd.read_csv('C:\\\\Users\\\\naga2\\\\Downloads\\\\DM FINAL Project\\\\edata\\\\Fake.csv')\n",
    "fd_true=pd.read_csv('C:\\\\Users\\\\naga2\\\\Downloads\\\\DM FINAL Project\\\\edata\\\\True.csv')"
   ]
  },
  {
   "cell_type": "code",
   "execution_count": 5,
   "id": "cad71cd6",
   "metadata": {},
   "outputs": [
    {
     "data": {
      "text/html": [
       "<div>\n",
       "<style scoped>\n",
       "    .dataframe tbody tr th:only-of-type {\n",
       "        vertical-align: middle;\n",
       "    }\n",
       "\n",
       "    .dataframe tbody tr th {\n",
       "        vertical-align: top;\n",
       "    }\n",
       "\n",
       "    .dataframe thead th {\n",
       "        text-align: right;\n",
       "    }\n",
       "</style>\n",
       "<table border=\"1\" class=\"dataframe\">\n",
       "  <thead>\n",
       "    <tr style=\"text-align: right;\">\n",
       "      <th></th>\n",
       "      <th>title</th>\n",
       "      <th>text</th>\n",
       "      <th>subject</th>\n",
       "      <th>date</th>\n",
       "    </tr>\n",
       "  </thead>\n",
       "  <tbody>\n",
       "    <tr>\n",
       "      <th>0</th>\n",
       "      <td>Donald Trump Sends Out Embarrassing New Year’...</td>\n",
       "      <td>Donald Trump just couldn t wish all Americans ...</td>\n",
       "      <td>News</td>\n",
       "      <td>December 31, 2017</td>\n",
       "    </tr>\n",
       "    <tr>\n",
       "      <th>1</th>\n",
       "      <td>Drunk Bragging Trump Staffer Started Russian ...</td>\n",
       "      <td>House Intelligence Committee Chairman Devin Nu...</td>\n",
       "      <td>News</td>\n",
       "      <td>December 31, 2017</td>\n",
       "    </tr>\n",
       "    <tr>\n",
       "      <th>2</th>\n",
       "      <td>Sheriff David Clarke Becomes An Internet Joke...</td>\n",
       "      <td>On Friday, it was revealed that former Milwauk...</td>\n",
       "      <td>News</td>\n",
       "      <td>December 30, 2017</td>\n",
       "    </tr>\n",
       "    <tr>\n",
       "      <th>3</th>\n",
       "      <td>Trump Is So Obsessed He Even Has Obama’s Name...</td>\n",
       "      <td>On Christmas day, Donald Trump announced that ...</td>\n",
       "      <td>News</td>\n",
       "      <td>December 29, 2017</td>\n",
       "    </tr>\n",
       "    <tr>\n",
       "      <th>4</th>\n",
       "      <td>Pope Francis Just Called Out Donald Trump Dur...</td>\n",
       "      <td>Pope Francis used his annual Christmas Day mes...</td>\n",
       "      <td>News</td>\n",
       "      <td>December 25, 2017</td>\n",
       "    </tr>\n",
       "    <tr>\n",
       "      <th>5</th>\n",
       "      <td>Racist Alabama Cops Brutalize Black Boy While...</td>\n",
       "      <td>The number of cases of cops brutalizing and ki...</td>\n",
       "      <td>News</td>\n",
       "      <td>December 25, 2017</td>\n",
       "    </tr>\n",
       "  </tbody>\n",
       "</table>\n",
       "</div>"
      ],
      "text/plain": [
       "                                               title  \\\n",
       "0   Donald Trump Sends Out Embarrassing New Year’...   \n",
       "1   Drunk Bragging Trump Staffer Started Russian ...   \n",
       "2   Sheriff David Clarke Becomes An Internet Joke...   \n",
       "3   Trump Is So Obsessed He Even Has Obama’s Name...   \n",
       "4   Pope Francis Just Called Out Donald Trump Dur...   \n",
       "5   Racist Alabama Cops Brutalize Black Boy While...   \n",
       "\n",
       "                                                text subject  \\\n",
       "0  Donald Trump just couldn t wish all Americans ...    News   \n",
       "1  House Intelligence Committee Chairman Devin Nu...    News   \n",
       "2  On Friday, it was revealed that former Milwauk...    News   \n",
       "3  On Christmas day, Donald Trump announced that ...    News   \n",
       "4  Pope Francis used his annual Christmas Day mes...    News   \n",
       "5  The number of cases of cops brutalizing and ki...    News   \n",
       "\n",
       "                date  \n",
       "0  December 31, 2017  \n",
       "1  December 31, 2017  \n",
       "2  December 30, 2017  \n",
       "3  December 29, 2017  \n",
       "4  December 25, 2017  \n",
       "5  December 25, 2017  "
      ]
     },
     "execution_count": 5,
     "metadata": {},
     "output_type": "execute_result"
    }
   ],
   "source": [
    "#printing the first six elements of fake news dataset\n",
    "fd_fake.head(6)"
   ]
  },
  {
   "cell_type": "code",
   "execution_count": 6,
   "id": "425dccf2",
   "metadata": {},
   "outputs": [
    {
     "data": {
      "text/html": [
       "<div>\n",
       "<style scoped>\n",
       "    .dataframe tbody tr th:only-of-type {\n",
       "        vertical-align: middle;\n",
       "    }\n",
       "\n",
       "    .dataframe tbody tr th {\n",
       "        vertical-align: top;\n",
       "    }\n",
       "\n",
       "    .dataframe thead th {\n",
       "        text-align: right;\n",
       "    }\n",
       "</style>\n",
       "<table border=\"1\" class=\"dataframe\">\n",
       "  <thead>\n",
       "    <tr style=\"text-align: right;\">\n",
       "      <th></th>\n",
       "      <th>title</th>\n",
       "      <th>text</th>\n",
       "      <th>subject</th>\n",
       "      <th>date</th>\n",
       "    </tr>\n",
       "  </thead>\n",
       "  <tbody>\n",
       "    <tr>\n",
       "      <th>23476</th>\n",
       "      <td>McPain: John McCain Furious That Iran Treated ...</td>\n",
       "      <td>21st Century Wire says As 21WIRE reported earl...</td>\n",
       "      <td>Middle-east</td>\n",
       "      <td>January 16, 2016</td>\n",
       "    </tr>\n",
       "    <tr>\n",
       "      <th>23477</th>\n",
       "      <td>JUSTICE? Yahoo Settles E-mail Privacy Class-ac...</td>\n",
       "      <td>21st Century Wire says It s a familiar theme. ...</td>\n",
       "      <td>Middle-east</td>\n",
       "      <td>January 16, 2016</td>\n",
       "    </tr>\n",
       "    <tr>\n",
       "      <th>23478</th>\n",
       "      <td>Sunnistan: US and Allied ‘Safe Zone’ Plan to T...</td>\n",
       "      <td>Patrick Henningsen  21st Century WireRemember ...</td>\n",
       "      <td>Middle-east</td>\n",
       "      <td>January 15, 2016</td>\n",
       "    </tr>\n",
       "    <tr>\n",
       "      <th>23479</th>\n",
       "      <td>How to Blow $700 Million: Al Jazeera America F...</td>\n",
       "      <td>21st Century Wire says Al Jazeera America will...</td>\n",
       "      <td>Middle-east</td>\n",
       "      <td>January 14, 2016</td>\n",
       "    </tr>\n",
       "    <tr>\n",
       "      <th>23480</th>\n",
       "      <td>10 U.S. Navy Sailors Held by Iranian Military ...</td>\n",
       "      <td>21st Century Wire says As 21WIRE predicted in ...</td>\n",
       "      <td>Middle-east</td>\n",
       "      <td>January 12, 2016</td>\n",
       "    </tr>\n",
       "  </tbody>\n",
       "</table>\n",
       "</div>"
      ],
      "text/plain": [
       "                                                   title  \\\n",
       "23476  McPain: John McCain Furious That Iran Treated ...   \n",
       "23477  JUSTICE? Yahoo Settles E-mail Privacy Class-ac...   \n",
       "23478  Sunnistan: US and Allied ‘Safe Zone’ Plan to T...   \n",
       "23479  How to Blow $700 Million: Al Jazeera America F...   \n",
       "23480  10 U.S. Navy Sailors Held by Iranian Military ...   \n",
       "\n",
       "                                                    text      subject  \\\n",
       "23476  21st Century Wire says As 21WIRE reported earl...  Middle-east   \n",
       "23477  21st Century Wire says It s a familiar theme. ...  Middle-east   \n",
       "23478  Patrick Henningsen  21st Century WireRemember ...  Middle-east   \n",
       "23479  21st Century Wire says Al Jazeera America will...  Middle-east   \n",
       "23480  21st Century Wire says As 21WIRE predicted in ...  Middle-east   \n",
       "\n",
       "                   date  \n",
       "23476  January 16, 2016  \n",
       "23477  January 16, 2016  \n",
       "23478  January 15, 2016  \n",
       "23479  January 14, 2016  \n",
       "23480  January 12, 2016  "
      ]
     },
     "execution_count": 6,
     "metadata": {},
     "output_type": "execute_result"
    }
   ],
   "source": [
    "#printing the last five elements of fake news dataset\n",
    "fd_fake.tail()"
   ]
  },
  {
   "cell_type": "code",
   "execution_count": 7,
   "id": "e5d259ea",
   "metadata": {},
   "outputs": [
    {
     "data": {
      "text/html": [
       "<div>\n",
       "<style scoped>\n",
       "    .dataframe tbody tr th:only-of-type {\n",
       "        vertical-align: middle;\n",
       "    }\n",
       "\n",
       "    .dataframe tbody tr th {\n",
       "        vertical-align: top;\n",
       "    }\n",
       "\n",
       "    .dataframe thead th {\n",
       "        text-align: right;\n",
       "    }\n",
       "</style>\n",
       "<table border=\"1\" class=\"dataframe\">\n",
       "  <thead>\n",
       "    <tr style=\"text-align: right;\">\n",
       "      <th></th>\n",
       "      <th>title</th>\n",
       "      <th>text</th>\n",
       "      <th>subject</th>\n",
       "      <th>date</th>\n",
       "    </tr>\n",
       "  </thead>\n",
       "  <tbody>\n",
       "    <tr>\n",
       "      <th>0</th>\n",
       "      <td>As U.S. budget fight looms, Republicans flip t...</td>\n",
       "      <td>WASHINGTON (Reuters) - The head of a conservat...</td>\n",
       "      <td>politicsNews</td>\n",
       "      <td>December 31, 2017</td>\n",
       "    </tr>\n",
       "    <tr>\n",
       "      <th>1</th>\n",
       "      <td>U.S. military to accept transgender recruits o...</td>\n",
       "      <td>WASHINGTON (Reuters) - Transgender people will...</td>\n",
       "      <td>politicsNews</td>\n",
       "      <td>December 29, 2017</td>\n",
       "    </tr>\n",
       "    <tr>\n",
       "      <th>2</th>\n",
       "      <td>Senior U.S. Republican senator: 'Let Mr. Muell...</td>\n",
       "      <td>WASHINGTON (Reuters) - The special counsel inv...</td>\n",
       "      <td>politicsNews</td>\n",
       "      <td>December 31, 2017</td>\n",
       "    </tr>\n",
       "    <tr>\n",
       "      <th>3</th>\n",
       "      <td>FBI Russia probe helped by Australian diplomat...</td>\n",
       "      <td>WASHINGTON (Reuters) - Trump campaign adviser ...</td>\n",
       "      <td>politicsNews</td>\n",
       "      <td>December 30, 2017</td>\n",
       "    </tr>\n",
       "    <tr>\n",
       "      <th>4</th>\n",
       "      <td>Trump wants Postal Service to charge 'much mor...</td>\n",
       "      <td>SEATTLE/WASHINGTON (Reuters) - President Donal...</td>\n",
       "      <td>politicsNews</td>\n",
       "      <td>December 29, 2017</td>\n",
       "    </tr>\n",
       "    <tr>\n",
       "      <th>5</th>\n",
       "      <td>White House, Congress prepare for talks on spe...</td>\n",
       "      <td>WEST PALM BEACH, Fla./WASHINGTON (Reuters) - T...</td>\n",
       "      <td>politicsNews</td>\n",
       "      <td>December 29, 2017</td>\n",
       "    </tr>\n",
       "  </tbody>\n",
       "</table>\n",
       "</div>"
      ],
      "text/plain": [
       "                                               title  \\\n",
       "0  As U.S. budget fight looms, Republicans flip t...   \n",
       "1  U.S. military to accept transgender recruits o...   \n",
       "2  Senior U.S. Republican senator: 'Let Mr. Muell...   \n",
       "3  FBI Russia probe helped by Australian diplomat...   \n",
       "4  Trump wants Postal Service to charge 'much mor...   \n",
       "5  White House, Congress prepare for talks on spe...   \n",
       "\n",
       "                                                text       subject  \\\n",
       "0  WASHINGTON (Reuters) - The head of a conservat...  politicsNews   \n",
       "1  WASHINGTON (Reuters) - Transgender people will...  politicsNews   \n",
       "2  WASHINGTON (Reuters) - The special counsel inv...  politicsNews   \n",
       "3  WASHINGTON (Reuters) - Trump campaign adviser ...  politicsNews   \n",
       "4  SEATTLE/WASHINGTON (Reuters) - President Donal...  politicsNews   \n",
       "5  WEST PALM BEACH, Fla./WASHINGTON (Reuters) - T...  politicsNews   \n",
       "\n",
       "                 date  \n",
       "0  December 31, 2017   \n",
       "1  December 29, 2017   \n",
       "2  December 31, 2017   \n",
       "3  December 30, 2017   \n",
       "4  December 29, 2017   \n",
       "5  December 29, 2017   "
      ]
     },
     "execution_count": 7,
     "metadata": {},
     "output_type": "execute_result"
    }
   ],
   "source": [
    "#printing the first six elements of true news dataset\n",
    "fd_true.head(6)"
   ]
  },
  {
   "cell_type": "code",
   "execution_count": 8,
   "id": "17c6940c",
   "metadata": {},
   "outputs": [
    {
     "data": {
      "text/html": [
       "<div>\n",
       "<style scoped>\n",
       "    .dataframe tbody tr th:only-of-type {\n",
       "        vertical-align: middle;\n",
       "    }\n",
       "\n",
       "    .dataframe tbody tr th {\n",
       "        vertical-align: top;\n",
       "    }\n",
       "\n",
       "    .dataframe thead th {\n",
       "        text-align: right;\n",
       "    }\n",
       "</style>\n",
       "<table border=\"1\" class=\"dataframe\">\n",
       "  <thead>\n",
       "    <tr style=\"text-align: right;\">\n",
       "      <th></th>\n",
       "      <th>title</th>\n",
       "      <th>text</th>\n",
       "      <th>subject</th>\n",
       "      <th>date</th>\n",
       "    </tr>\n",
       "  </thead>\n",
       "  <tbody>\n",
       "    <tr>\n",
       "      <th>21333</th>\n",
       "      <td>'Fully committed' NATO backs new U.S. approach...</td>\n",
       "      <td>BRUSSELS (Reuters) - NATO allies on Tuesday we...</td>\n",
       "      <td>worldnews</td>\n",
       "      <td>August 22, 2017</td>\n",
       "    </tr>\n",
       "    <tr>\n",
       "      <th>21334</th>\n",
       "      <td>LexisNexis withdrew two products from Chinese ...</td>\n",
       "      <td>LONDON (Reuters) - LexisNexis, a provider of l...</td>\n",
       "      <td>worldnews</td>\n",
       "      <td>August 22, 2017</td>\n",
       "    </tr>\n",
       "    <tr>\n",
       "      <th>21335</th>\n",
       "      <td>Minsk cultural hub becomes haven from authorities</td>\n",
       "      <td>MINSK (Reuters) - In the shadow of disused Sov...</td>\n",
       "      <td>worldnews</td>\n",
       "      <td>August 22, 2017</td>\n",
       "    </tr>\n",
       "    <tr>\n",
       "      <th>21336</th>\n",
       "      <td>Vatican upbeat on possibility of Pope Francis ...</td>\n",
       "      <td>MOSCOW (Reuters) - Vatican Secretary of State ...</td>\n",
       "      <td>worldnews</td>\n",
       "      <td>August 22, 2017</td>\n",
       "    </tr>\n",
       "    <tr>\n",
       "      <th>21337</th>\n",
       "      <td>Indonesia to buy $1.14 billion worth of Russia...</td>\n",
       "      <td>JAKARTA (Reuters) - Indonesia will buy 11 Sukh...</td>\n",
       "      <td>worldnews</td>\n",
       "      <td>August 22, 2017</td>\n",
       "    </tr>\n",
       "  </tbody>\n",
       "</table>\n",
       "</div>"
      ],
      "text/plain": [
       "                                                   title  \\\n",
       "21333  'Fully committed' NATO backs new U.S. approach...   \n",
       "21334  LexisNexis withdrew two products from Chinese ...   \n",
       "21335  Minsk cultural hub becomes haven from authorities   \n",
       "21336  Vatican upbeat on possibility of Pope Francis ...   \n",
       "21337  Indonesia to buy $1.14 billion worth of Russia...   \n",
       "\n",
       "                                                    text    subject  \\\n",
       "21333  BRUSSELS (Reuters) - NATO allies on Tuesday we...  worldnews   \n",
       "21334  LONDON (Reuters) - LexisNexis, a provider of l...  worldnews   \n",
       "21335  MINSK (Reuters) - In the shadow of disused Sov...  worldnews   \n",
       "21336  MOSCOW (Reuters) - Vatican Secretary of State ...  worldnews   \n",
       "21337  JAKARTA (Reuters) - Indonesia will buy 11 Sukh...  worldnews   \n",
       "\n",
       "                   date  \n",
       "21333  August 22, 2017   \n",
       "21334  August 22, 2017   \n",
       "21335  August 22, 2017   \n",
       "21336  August 22, 2017   \n",
       "21337  August 22, 2017   "
      ]
     },
     "execution_count": 8,
     "metadata": {},
     "output_type": "execute_result"
    }
   ],
   "source": [
    "#printing the last five elements of true news dataset\n",
    "fd_true.tail()"
   ]
  },
  {
   "cell_type": "code",
   "execution_count": 9,
   "id": "67bc43de",
   "metadata": {},
   "outputs": [],
   "source": [
    "#Inserting a column called \"class\" for fake and real news dataset to categories fake and true news.\n",
    "fd_fake[\"class\"] = 0\n",
    "fd_true[\"class\"] = 1"
   ]
  },
  {
   "cell_type": "code",
   "execution_count": 10,
   "id": "eb980ae2",
   "metadata": {},
   "outputs": [
    {
     "data": {
      "text/plain": [
       "((23481, 5), (21338, 5))"
      ]
     },
     "execution_count": 10,
     "metadata": {},
     "output_type": "execute_result"
    }
   ],
   "source": [
    "#finding the shape of data\n",
    "fd_fake.shape, fd_true.shape"
   ]
  },
  {
   "cell_type": "code",
   "execution_count": 11,
   "id": "f9a9672e",
   "metadata": {},
   "outputs": [],
   "source": [
    "#Inserting a column called \"class\" for fake and real news dataset to categories fake and true news\n",
    "fd_fake_manual_testing = fd_fake.tail(10)\n",
    "for i in range(23480,23470,-1):\n",
    "    fd_fake.drop([i], axis = 0, inplace = True)\n",
    "fd_true_manual_testing = fd_true.tail(10)\n",
    "for i in range(21336,21226,-1):\n",
    "    fd_true.drop([i], axis = 0, inplace = True)"
   ]
  },
  {
   "cell_type": "markdown",
   "id": "d4c89ed9",
   "metadata": {},
   "source": [
    "# Merging the manual testing dataframe in single dataset and save it in a csv file"
   ]
  },
  {
   "cell_type": "code",
   "execution_count": 17,
   "id": "ca31ff9e",
   "metadata": {},
   "outputs": [
    {
     "name": "stderr",
     "output_type": "stream",
     "text": [
      "C:\\Users\\naga2\\AppData\\Local\\Temp\\ipykernel_20916\\626504640.py:1: SettingWithCopyWarning: \n",
      "A value is trying to be set on a copy of a slice from a DataFrame.\n",
      "Try using .loc[row_indexer,col_indexer] = value instead\n",
      "\n",
      "See the caveats in the documentation: https://pandas.pydata.org/pandas-docs/stable/user_guide/indexing.html#returning-a-view-versus-a-copy\n",
      "  fd_fake_manual_testing[\"class\"] = 0\n",
      "C:\\Users\\naga2\\AppData\\Local\\Temp\\ipykernel_20916\\626504640.py:2: SettingWithCopyWarning: \n",
      "A value is trying to be set on a copy of a slice from a DataFrame.\n",
      "Try using .loc[row_indexer,col_indexer] = value instead\n",
      "\n",
      "See the caveats in the documentation: https://pandas.pydata.org/pandas-docs/stable/user_guide/indexing.html#returning-a-view-versus-a-copy\n",
      "  fd_true_manual_testing[\"class\"] = 1\n"
     ]
    }
   ],
   "source": [
    "fd_fake_manual_testing[\"class\"] = 0\n",
    "fd_true_manual_testing[\"class\"] = 1\n",
    "#you will get some warnings leave those"
   ]
  },
  {
   "cell_type": "code",
   "execution_count": 21,
   "id": "bc1225cd",
   "metadata": {},
   "outputs": [],
   "source": [
    "fd_manual_testing = pd.concat([fd_fake_manual_testing,fd_true_manual_testing], axis = 0)\n",
    "fd_manual_testing.to_csv(\"manual_testing.csv\")\n",
    "fd_margin = pd.concat([fd_fake, fd_true], axis =0 )"
   ]
  },
  {
   "cell_type": "code",
   "execution_count": 22,
   "id": "71bebf6a",
   "metadata": {},
   "outputs": [
    {
     "data": {
      "text/plain": [
       "Index(['title', 'text', 'subject', 'date', 'class'], dtype='object')"
      ]
     },
     "execution_count": 22,
     "metadata": {},
     "output_type": "execute_result"
    }
   ],
   "source": [
    "fd_margin.columns"
   ]
  },
  {
   "cell_type": "code",
   "execution_count": 23,
   "id": "43a31785",
   "metadata": {},
   "outputs": [
    {
     "data": {
      "text/plain": [
       "text     0\n",
       "class    0\n",
       "dtype: int64"
      ]
     },
     "execution_count": 23,
     "metadata": {},
     "output_type": "execute_result"
    }
   ],
   "source": [
    "#\"Date\",\"title\" and subject columns are not required so I am removing them\n",
    "fd = fd_margin.drop([\"title\", \"subject\",\"date\"], axis = 1)\n",
    "fd.isnull().sum()"
   ]
  },
  {
   "cell_type": "code",
   "execution_count": 24,
   "id": "025ebb2e",
   "metadata": {},
   "outputs": [
    {
     "data": {
      "text/html": [
       "<div>\n",
       "<style scoped>\n",
       "    .dataframe tbody tr th:only-of-type {\n",
       "        vertical-align: middle;\n",
       "    }\n",
       "\n",
       "    .dataframe tbody tr th {\n",
       "        vertical-align: top;\n",
       "    }\n",
       "\n",
       "    .dataframe thead th {\n",
       "        text-align: right;\n",
       "    }\n",
       "</style>\n",
       "<table border=\"1\" class=\"dataframe\">\n",
       "  <thead>\n",
       "    <tr style=\"text-align: right;\">\n",
       "      <th></th>\n",
       "      <th>text</th>\n",
       "      <th>class</th>\n",
       "    </tr>\n",
       "  </thead>\n",
       "  <tbody>\n",
       "    <tr>\n",
       "      <th>10768</th>\n",
       "      <td>Judge Jeanine Pirro s Opening Statement focuse...</td>\n",
       "      <td>0</td>\n",
       "    </tr>\n",
       "    <tr>\n",
       "      <th>17245</th>\n",
       "      <td>When it comes to limiting our free speech, not...</td>\n",
       "      <td>0</td>\n",
       "    </tr>\n",
       "    <tr>\n",
       "      <th>13975</th>\n",
       "      <td>DUBAI (Reuters) - Saudi Arabia aims to start i...</td>\n",
       "      <td>1</td>\n",
       "    </tr>\n",
       "    <tr>\n",
       "      <th>22561</th>\n",
       "      <td>21st Century Wire says The military industrial...</td>\n",
       "      <td>0</td>\n",
       "    </tr>\n",
       "    <tr>\n",
       "      <th>16708</th>\n",
       "      <td>LONDON (Reuters) - British police ended an arm...</td>\n",
       "      <td>1</td>\n",
       "    </tr>\n",
       "  </tbody>\n",
       "</table>\n",
       "</div>"
      ],
      "text/plain": [
       "                                                    text  class\n",
       "10768  Judge Jeanine Pirro s Opening Statement focuse...      0\n",
       "17245  When it comes to limiting our free speech, not...      0\n",
       "13975  DUBAI (Reuters) - Saudi Arabia aims to start i...      1\n",
       "22561  21st Century Wire says The military industrial...      0\n",
       "16708  LONDON (Reuters) - British police ended an arm...      1"
      ]
     },
     "execution_count": 24,
     "metadata": {},
     "output_type": "execute_result"
    }
   ],
   "source": [
    "#Randomly shuffling the dataframe\n",
    "fd= fd.sample(frac = 1)\n",
    "fd.head()"
   ]
  },
  {
   "cell_type": "code",
   "execution_count": 25,
   "id": "ff091cfe",
   "metadata": {},
   "outputs": [
    {
     "data": {
      "text/plain": [
       "Index(['text', 'class'], dtype='object')"
      ]
     },
     "execution_count": 25,
     "metadata": {},
     "output_type": "execute_result"
    }
   ],
   "source": [
    "fd.reset_index(inplace = True)\n",
    "fd.drop([\"index\"], axis = 1, inplace = True)\n",
    "fd.columns"
   ]
  },
  {
   "cell_type": "markdown",
   "id": "e7d24f05",
   "metadata": {},
   "source": [
    "# Creating a function for converting the text in lowercase, remove the extra space, special chr., ulr and links."
   ]
  },
  {
   "cell_type": "code",
   "execution_count": 26,
   "id": "5f3e96bc",
   "metadata": {},
   "outputs": [],
   "source": [
    "def wordopt(text):\n",
    "    text = text.lower()\n",
    "    text = re.sub('\\[.*?\\]', '', text)\n",
    "    text = re.sub(\"\\\\W\",\" \",text) \n",
    "    text = re.sub('https?://\\S+|www\\.\\S+', '', text)\n",
    "    text = re.sub('<.*?>+', '', text)\n",
    "    text = re.sub('[%s]' % re.escape(string.punctuation), '', text)\n",
    "    text = re.sub('\\n', '', text)\n",
    "    text = re.sub('\\w*\\d\\w*', '', text)    \n",
    "    return text"
   ]
  },
  {
   "cell_type": "code",
   "execution_count": 27,
   "id": "05be4ab3",
   "metadata": {},
   "outputs": [],
   "source": [
    "fd[\"text\"] = fd[\"text\"].apply(wordopt)"
   ]
  },
  {
   "cell_type": "code",
   "execution_count": 28,
   "id": "77f14df0",
   "metadata": {},
   "outputs": [],
   "source": [
    "#Defining dependent and independent variable as x and y\n",
    "x = fd[\"text\"]\n",
    "y= fd[\"class\"]"
   ]
  },
  {
   "cell_type": "markdown",
   "id": "edb6c59c",
   "metadata": {},
   "source": [
    "# Splitting the dataset into training set and testing set"
   ]
  },
  {
   "cell_type": "code",
   "execution_count": 29,
   "id": "a5b5baad",
   "metadata": {},
   "outputs": [],
   "source": [
    "x_train, x_test, y_train, y_test = train_test_split(x, y, test_size=0.3)"
   ]
  },
  {
   "cell_type": "code",
   "execution_count": 30,
   "id": "80deb86f",
   "metadata": {},
   "outputs": [],
   "source": [
    "#Convert text to vectors\n",
    "vec = TfidfVectorizer()\n",
    "xv_train = vec.fit_transform(x_train)\n",
    "xv_test = vec.transform(x_test)"
   ]
  },
  {
   "cell_type": "markdown",
   "id": "7efc80a4",
   "metadata": {},
   "source": [
    "# Prediction Using Logistic Regression"
   ]
  },
  {
   "cell_type": "code",
   "execution_count": 31,
   "id": "00886395",
   "metadata": {},
   "outputs": [
    {
     "data": {
      "text/plain": [
       "LogisticRegression()"
      ]
     },
     "execution_count": 31,
     "metadata": {},
     "output_type": "execute_result"
    }
   ],
   "source": [
    "from sklearn.linear_model import LogisticRegression\n",
    "K = LogisticRegression()\n",
    "K.fit(xv_train,y_train)"
   ]
  },
  {
   "cell_type": "code",
   "execution_count": 32,
   "id": "c34c0e52",
   "metadata": {},
   "outputs": [],
   "source": [
    "pred_k=K.predict(xv_test)"
   ]
  },
  {
   "cell_type": "code",
   "execution_count": 33,
   "id": "0435c3c6",
   "metadata": {},
   "outputs": [
    {
     "name": "stdout",
     "output_type": "stream",
     "text": [
      "Accuracy: 98.67%\n"
     ]
    }
   ],
   "source": [
    "score=K.score(xv_test, y_test)\n",
    "print(f'Accuracy: {round(score*100,2)}%')"
   ]
  },
  {
   "cell_type": "code",
   "execution_count": 34,
   "id": "8a913f24",
   "metadata": {},
   "outputs": [
    {
     "name": "stdout",
     "output_type": "stream",
     "text": [
      "              precision    recall  f1-score   support\n",
      "\n",
      "           0       0.99      0.99      0.99      7043\n",
      "           1       0.98      0.99      0.99      6367\n",
      "\n",
      "    accuracy                           0.99     13410\n",
      "   macro avg       0.99      0.99      0.99     13410\n",
      "weighted avg       0.99      0.99      0.99     13410\n",
      "\n"
     ]
    }
   ],
   "source": [
    "print(classification_report(y_test, pred_k))"
   ]
  },
  {
   "cell_type": "code",
   "execution_count": 35,
   "id": "194fae64",
   "metadata": {},
   "outputs": [
    {
     "data": {
      "text/plain": [
       "<sklearn.metrics._plot.confusion_matrix.ConfusionMatrixDisplay at 0x1b90d4d1a30>"
      ]
     },
     "execution_count": 35,
     "metadata": {},
     "output_type": "execute_result"
    },
    {
     "data": {
      "image/png": "[encoded data removed]",
      "text/plain": [
       "<Figure size 432x288 with 2 Axes>"
      ]
     },
     "metadata": {
      "needs_background": "light"
     },
     "output_type": "display_data"
    }
   ],
   "source": [
    "#Plotting the result using confusion matrix\n",
    "conf_matrix = confusion_matrix(y_true=y_test, y_pred=pred_k, labels=K.classes_)\n",
    "conf_disp=ConfusionMatrixDisplay(confusion_matrix=conf_matrix, display_labels=['Fake','Real'])\n",
    "conf_disp.plot()"
   ]
  },
  {
   "cell_type": "markdown",
   "id": "ac5198e6",
   "metadata": {},
   "source": [
    "# Prediction Using Decesion Tree Classifier"
   ]
  },
  {
   "cell_type": "code",
   "execution_count": 36,
   "id": "b8184c42",
   "metadata": {},
   "outputs": [
    {
     "data": {
      "text/plain": [
       "DecisionTreeClassifier()"
      ]
     },
     "execution_count": 36,
     "metadata": {},
     "output_type": "execute_result"
    }
   ],
   "source": [
    "from sklearn.tree import DecisionTreeClassifier\n",
    "Z = DecisionTreeClassifier()\n",
    "Z.fit(xv_train, y_train)"
   ]
  },
  {
   "cell_type": "code",
   "execution_count": 37,
   "id": "5a01bbd4",
   "metadata": {},
   "outputs": [],
   "source": [
    "pred_z = Z.predict(xv_test)"
   ]
  },
  {
   "cell_type": "code",
   "execution_count": 38,
   "id": "872ff671",
   "metadata": {},
   "outputs": [
    {
     "name": "stdout",
     "output_type": "stream",
     "text": [
      "Accuracy: 99.57%\n"
     ]
    }
   ],
   "source": [
    "score=Z.score(xv_test, y_test)\n",
    "print(f'Accuracy: {round(score*100,2)}%')"
   ]
  },
  {
   "cell_type": "code",
   "execution_count": 39,
   "id": "79bf35ac",
   "metadata": {},
   "outputs": [
    {
     "name": "stdout",
     "output_type": "stream",
     "text": [
      "              precision    recall  f1-score   support\n",
      "\n",
      "           0       1.00      1.00      1.00      7043\n",
      "           1       1.00      1.00      1.00      6367\n",
      "\n",
      "    accuracy                           1.00     13410\n",
      "   macro avg       1.00      1.00      1.00     13410\n",
      "weighted avg       1.00      1.00      1.00     13410\n",
      "\n"
     ]
    }
   ],
   "source": [
    "print(classification_report(y_test, pred_z))"
   ]
  },
  {
   "cell_type": "code",
   "execution_count": 41,
   "id": "feac54ea",
   "metadata": {},
   "outputs": [
    {
     "data": {
      "text/plain": [
       "<sklearn.metrics._plot.confusion_matrix.ConfusionMatrixDisplay at 0x1b90d4e51c0>"
      ]
     },
     "execution_count": 41,
     "metadata": {},
     "output_type": "execute_result"
    },
    {
     "data": {
      "image/png": "[encoded data removed]",
      "text/plain": [
       "<Figure size 432x288 with 2 Axes>"
      ]
     },
     "metadata": {
      "needs_background": "light"
     },
     "output_type": "display_data"
    }
   ],
   "source": [
    "#Plotting the result using confusion matrix\n",
    "conf_matrix = confusion_matrix(y_true=y_test, y_pred=pred_k, labels=Z.classes_)\n",
    "conf_disp=ConfusionMatrixDisplay(confusion_matrix=conf_matrix, display_labels=['Fake','Real'])\n",
    "conf_disp.plot()"
   ]
  },
  {
   "cell_type": "markdown",
   "id": "8f673798",
   "metadata": {},
   "source": [
    "# Testing With Manual Entry"
   ]
  },
  {
   "cell_type": "code",
   "execution_count": 42,
   "id": "b37a5316",
   "metadata": {},
   "outputs": [],
   "source": [
    "def output_lable(n):\n",
    "    if n == 0:\n",
    "        return \"Fake News\"\n",
    "    elif n == 1:\n",
    "        return \"Real News\"\n",
    "    \n",
    "def manual_testing(news):\n",
    "    testing_news = {\"text\":[news]}\n",
    "    new_def_test = pd.DataFrame(testing_news)\n",
    "    new_def_test[\"text\"] = new_def_test[\"text\"].apply(wordopt) \n",
    "    new_x_test = new_def_test[\"text\"]\n",
    "    new_xv_test = vec.transform(new_x_test)\n",
    "    pred_k = K.predict(new_xv_test)\n",
    "    pred_z = Z.predict(new_xv_test)\n",
    "    return print(\"\\n\\nLR Prediction: {} \\nDT Prediction: {}\".format(output_lable(pred_k[0]),output_lable(pred_z[0])))"
   ]
  },
  {
   "cell_type": "code",
   "execution_count": 43,
   "id": "f3554804",
   "metadata": {},
   "outputs": [
    {
     "name": "stdout",
     "output_type": "stream",
     "text": [
      "Fox  News  host Sean Hannity spent a whopping 6 seconds covering Tuesday night s election results in which Democrats gained seats across the country in a referendum to Donald Trump and his policies. Hannity, an ardent defender of Trump s, explained the Democratic electoral victories in three of the states by saying,  Those results in Virginia, New Jersey, and New York   not states Donald Trump won.  Hannity devoted 14 words to cover the election results in which Democrats trounced Republicans. In fact, as Shareblue notes,  Democrats flipped 14 seats in the Virginia House of Delegates   the largest Democratic gain in a single election in the state since 1899. Hannity just shrugged it off.Watch:Sean Hannity's election coverage pic.twitter.com/l8DNJbfVRq  John Whitehouse (@existentialfish) November 8, 2017After the hate-march in Charlottesville, Virginia in which tiki-torch carrying bigots terrorized the city while marching in Trump s name, resulting in the death of Heather Heyer, the Commonwealth rejected hate and bigotry at the polls yesterday.Newly elected Virginia state delegate Danica Roem, an openly transgender woman, defeated Bob Marshall, a Republican incumbent who billed himself as the commonwealth s  chief homophobe. Instead of covering the big news, Hannity, a man who can be spotted usually humping on Trump s leg, decided to cover the former reality show star s speech in South Korea and his 2016  victory. Tonight on #Hannity we will cover President Trump s speech in South Korea and election results with @SebGorka, @AmbJohnBolton, @peterschweizer, @MonicaCrowley, @GreggJarrett and more  Sean Hannity (@seanhannity) November 8, 2017And Trump is the reason Republicans lost so many seats last night, but Hannity wants to sing his praises and ignore the massive beating the GOP took.The Internet decided to rub it in his face.What's your take on the election results, Sean?  Tommy Vietor (@TVietor08) November 8, 2017Will you discuss the look on their faces? pic.twitter.com/U63kUEeZ4s  Eric McAlister (@stankfunkmusic) November 8, 2017Did the election results come in yet? pic.twitter.com/fzFjxjeZMA  ?BlueTexan?? (@lkjtexas) November 8, 2017How about the election in VA big guy? Thoughts?  johnny foosball (@funkmnm) November 8, 2017Let me save you a broadcast: Election results   LOL pic.twitter.com/AKX5j2JSeG  Jazzie (@baddogs4343) November 8, 2017Feeling a little BLUE tonight?  IAmTaniaNow! (@IAmTaniaNow) November 8, 2017What about the election landslide results in Virginia and New Jersey?  Sara Burns (@VelvetBarracuda) November 8, 2017Will you be covering the crushing election defeat of the Republican Party? Or do your viewers not need to hear about that?  Jason (@berg0887) November 8, 2017That s some real in-depth reporting there, Sean. The Fox News host likes to routinely call liberals  snowflakes  but he s the snowflakiest snowflake on TV.  It s probably better for Hannity that he didn t report the actual news, though. It looks like he was about to cry. Although, drinking Hannity s salty conservative tears is kind of satisfying after Trump stumped so hard for Ed Gillespie s campaign on Twitter.Image via screen capture.\n",
      "\n",
      "\n",
      "LR Prediction: Fake News \n",
      "DT Prediction: Fake News\n"
     ]
    }
   ],
   "source": [
    "#Here I am entering some random data from dataset\n",
    "news = str(input())\n",
    "manual_testing(news)"
   ]
  },
  {
   "cell_type": "code",
   "execution_count": null,
   "id": "cd261b4b",
   "metadata": {},
   "outputs": [],
   "source": []
  }
 ],
 "metadata": {
  "kernelspec": {
   "display_name": "Python 3 (ipykernel)",
   "language": "python",
   "name": "python3"
  },
  "language_info": {
   "codemirror_mode": {
    "name": "ipython",
    "version": 3
   },
   "file_extension": ".py",
   "mimetype": "text/x-python",
   "name": "python",
   "nbconvert_exporter": "python",
   "pygments_lexer": "ipython3",
   "version": "3.9.12"
  }
 },
 "nbformat": 4,
 "nbformat_minor": 5
}
